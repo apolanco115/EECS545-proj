{
 "cells": [
  {
   "cell_type": "code",
   "execution_count": 118,
   "id": "6eb929f2-3367-4d37-8cd5-82f350345444",
   "metadata": {},
   "outputs": [],
   "source": [
    "import torch\n",
    "import torchvision\n",
    "import torchvision.transforms as transforms\n",
    "\n",
    "import matplotlib.pyplot as plt\n",
    "import numpy as np\n",
    "\n",
    "import torch.nn as nn\n",
    "import torch.nn.functional as F\n",
    "from torch.autograd import Variable\n",
    "plt.style.use('ggplot')"
   ]
  },
  {
   "cell_type": "code",
   "execution_count": 2,
   "id": "167e6747-c58f-4cfd-a859-ddea19d16d57",
   "metadata": {},
   "outputs": [],
   "source": [
    "transform = transforms.Compose([transforms.ToTensor(),transforms.Normalize((0.1307,) ,(0.3081,))])\n",
    "\n",
    "batch_size = 4\n",
    "\n",
    "trainset = torchvision.datasets.MNIST(root='../mnist_data', train=True,\n",
    "                                        download=True, transform=transform)\n",
    "trainloader = torch.utils.data.DataLoader(trainset, batch_size=batch_size,\n",
    "                                          shuffle=True, num_workers=2)\n",
    "\n",
    "testset = torchvision.datasets.MNIST(root='../mnist_data', train=False,\n",
    "                                       download=True, transform=transform)\n",
    "\n",
    "testloader = torch.utils.data.DataLoader(testset, batch_size=batch_size,\n",
    "                                         shuffle=False, num_workers=2)"
   ]
  },
  {
   "cell_type": "code",
   "execution_count": 3,
   "id": "5d1afd9a-a2f0-4f8d-afed-7bee5c9f57a3",
   "metadata": {},
   "outputs": [],
   "source": [
    "def imshow(img):\n",
    "    npimg = img.numpy()\n",
    "    plt.imshow(np.transpose(npimg, (1, 2, 0)))\n",
    "    plt.show()\n"
   ]
  },
  {
   "cell_type": "code",
   "execution_count": 4,
   "id": "5ad87113-a7ba-4536-9a5e-850550173e38",
   "metadata": {},
   "outputs": [],
   "source": [
    "dataiter = iter(trainloader)\n",
    "images, labels = dataiter.next()"
   ]
  },
  {
   "cell_type": "code",
   "execution_count": 5,
   "id": "609c6062-99a8-4469-b451-1bb55814db66",
   "metadata": {},
   "outputs": [
    {
     "name": "stderr",
     "output_type": "stream",
     "text": [
      "Clipping input data to the valid range for imshow with RGB data ([0..1] for floats or [0..255] for integers).\n"
     ]
    },
    {
     "data": {
      "image/png": "[encoded data removed]",
      "text/plain": [
       "<Figure size 432x288 with 1 Axes>"
      ]
     },
     "metadata": {
      "needs_background": "light"
     },
     "output_type": "display_data"
    },
    {
     "name": "stdout",
     "output_type": "stream",
     "text": [
      "8 1 5 6\n"
     ]
    }
   ],
   "source": [
    "imshow(torchvision.utils.make_grid(images))\n",
    "# print labels\n",
    "print(' '.join(f'{labels[j]}' for j in range(batch_size)))"
   ]
  },
  {
   "cell_type": "code",
   "execution_count": 6,
   "id": "d5062e26-9a25-488a-a3f9-0cee1527e4c6",
   "metadata": {},
   "outputs": [],
   "source": [
    "class CNN(nn.Module):\n",
    "    def __init__(self):\n",
    "        super(CNN, self).__init__()\n",
    "        self.conv1 = nn.Sequential(         \n",
    "            nn.Conv2d(\n",
    "                in_channels=1,              \n",
    "                out_channels=16,            \n",
    "                kernel_size=5,              \n",
    "                stride=1,                   \n",
    "                padding=2,                  \n",
    "            ),                              \n",
    "            nn.ReLU(),                      \n",
    "            nn.MaxPool2d(kernel_size=2),    \n",
    "        )\n",
    "        self.conv2 = nn.Sequential(         \n",
    "            nn.Conv2d(16, 32, 5, 1, 2),     \n",
    "            nn.ReLU(),                      \n",
    "            nn.MaxPool2d(2),                \n",
    "        )\n",
    "        self.out = nn.Linear(32 * 7 * 7, 10)\n",
    "        \n",
    "    def forward(self, x):\n",
    "        x = self.conv1(x)\n",
    "        x = self.conv2(x)\n",
    "        x = x.view(x.size(0), -1)       \n",
    "        output = self.out(x)\n",
    "        return output"
   ]
  },
  {
   "cell_type": "code",
   "execution_count": 7,
   "id": "7d27079a-94be-4510-a27a-b5c99cb7dcd3",
   "metadata": {},
   "outputs": [],
   "source": [
    "model = CNN()"
   ]
  },
  {
   "cell_type": "code",
   "execution_count": 8,
   "id": "dd49078b-f671-4015-aa08-97633b94e979",
   "metadata": {},
   "outputs": [],
   "source": [
    "criterion = nn.CrossEntropyLoss()\n",
    "optimizer = torch.optim.SGD(model.parameters(), lr=0.001, momentum=0.9)"
   ]
  },
  {
   "cell_type": "code",
   "execution_count": 9,
   "id": "78f87a7e-ecc1-4fbd-8edb-720c3f6bb166",
   "metadata": {},
   "outputs": [
    {
     "name": "stdout",
     "output_type": "stream",
     "text": [
      "[1,  2000] loss: 0.342\n",
      "[1,  4000] loss: 0.114\n",
      "[1,  6000] loss: 0.085\n",
      "[1,  8000] loss: 0.085\n",
      "[1, 10000] loss: 0.069\n",
      "[1, 12000] loss: 0.059\n",
      "[1, 14000] loss: 0.059\n",
      "[2,  2000] loss: 0.041\n",
      "[2,  4000] loss: 0.042\n",
      "[2,  6000] loss: 0.055\n",
      "[2,  8000] loss: 0.046\n",
      "[2, 10000] loss: 0.038\n",
      "[2, 12000] loss: 0.043\n",
      "[2, 14000] loss: 0.045\n",
      "Finished Training\n"
     ]
    }
   ],
   "source": [
    "for epoch in range(2):  # loop over the dataset multiple times\n",
    "\n",
    "    running_loss = 0.0\n",
    "    for i, data in enumerate(trainloader, 0):\n",
    "        # get the inputs; data is a list of [inputs, labels]\n",
    "        inputs, labels = data\n",
    "\n",
    "        # zero the parameter gradients\n",
    "        optimizer.zero_grad()\n",
    "\n",
    "        # forward + backward + optimize\n",
    "        outputs = model(inputs)\n",
    "        loss = criterion(outputs, labels)\n",
    "        loss.backward()\n",
    "        optimizer.step()\n",
    "\n",
    "        # print statistics\n",
    "        running_loss += loss.item()\n",
    "        if i % 2000 == 1999:    # print every 2000 mini-batches\n",
    "            print(f'[{epoch + 1}, {i + 1:5d}] loss: {running_loss / 2000:.3f}')\n",
    "            running_loss = 0.0\n",
    "\n",
    "print('Finished Training')"
   ]
  },
  {
   "cell_type": "code",
   "execution_count": 9,
   "id": "90e49576-efc2-46e3-8bf1-ad2ffc142f9b",
   "metadata": {},
   "outputs": [],
   "source": [
    "PATH = '../mnist_net.pth'\n",
    "# torch.save(model.state_dict(), PATH)"
   ]
  },
  {
   "cell_type": "code",
   "execution_count": 10,
   "id": "da94521c-bb5a-4060-8d77-876d5b13976e",
   "metadata": {},
   "outputs": [
    {
     "data": {
      "text/plain": [
       "<All keys matched successfully>"
      ]
     },
     "execution_count": 10,
     "metadata": {},
     "output_type": "execute_result"
    }
   ],
   "source": [
    "model = CNN()\n",
    "model.load_state_dict(torch.load(PATH))"
   ]
  },
  {
   "cell_type": "code",
   "execution_count": 11,
   "id": "8c6f21ab-7c6a-4397-9c66-f6667aa10f28",
   "metadata": {},
   "outputs": [
    {
     "name": "stdout",
     "output_type": "stream",
     "text": [
      "Accuracy of the network on the 10000 test images: 98 %\n"
     ]
    }
   ],
   "source": [
    "correct = 0\n",
    "total = 0\n",
    "# since we're not training, we don't need to calculate the gradients for our outputs\n",
    "with torch.no_grad():\n",
    "    for data in testloader:\n",
    "        images, labels = data\n",
    "        # calculate outputs by running images through the network\n",
    "        outputs = model(images)\n",
    "        # the class with the highest energy is what we choose as prediction\n",
    "        _, predicted = torch.max(outputs.data, 1)\n",
    "        total += labels.size(0)\n",
    "        correct += (predicted == labels).sum().item()\n",
    "\n",
    "print(f'Accuracy of the network on the 10000 test images: {100 * correct // total} %')"
   ]
  },
  {
   "cell_type": "code",
   "execution_count": 12,
   "id": "b815d82b-5e36-41c4-acd8-d9bf13928bf6",
   "metadata": {},
   "outputs": [
    {
     "name": "stderr",
     "output_type": "stream",
     "text": [
      "Clipping input data to the valid range for imshow with RGB data ([0..1] for floats or [0..255] for integers).\n"
     ]
    },
    {
     "data": {
      "image/png": "[encoded data removed]",
      "text/plain": [
       "<Figure size 432x288 with 1 Axes>"
      ]
     },
     "metadata": {
      "needs_background": "light"
     },
     "output_type": "display_data"
    },
    {
     "name": "stdout",
     "output_type": "stream",
     "text": [
      "GroundTruth:  7 2 1 0\n"
     ]
    }
   ],
   "source": [
    "dataiter = iter(testloader)\n",
    "images, labels = dataiter.next()\n",
    "\n",
    "# print images\n",
    "imshow(torchvision.utils.make_grid(images))\n",
    "print('GroundTruth: ', ' '.join(f'{labels[j]}' for j in range(4)))"
   ]
  },
  {
   "cell_type": "markdown",
   "id": "9aed9d7a-67a9-4c4e-ac5e-4d9c811e16da",
   "metadata": {},
   "source": [
    "# First Order Saliency Mapping"
   ]
  },
  {
   "cell_type": "markdown",
   "id": "223181f0-c775-4287-b999-19cc5884505c",
   "metadata": {},
   "source": [
    "## MNIST Example"
   ]
  },
  {
   "cell_type": "code",
   "execution_count": 13,
   "id": "d349bf06-21d1-4167-8b81-a4e1421b1609",
   "metadata": {},
   "outputs": [],
   "source": [
    "def compute_saliency_map(X, y, model):\n",
    "\n",
    "    for param in model.parameters():\n",
    "        param.requires_grad = False\n",
    "    \n",
    "    model.eval()\n",
    "    X_var = Variable(X.unsqueeze(0), requires_grad=True)\n",
    "    y_var = Variable(y)\n",
    "\n",
    "    scores = F.softmax(model(X_var), dim=1)\n",
    "    grad_scores = scores[0, y.item()]\n",
    "    grad_scores.backward()\n",
    "\n",
    "    \n",
    "    images_grads = X_var.grad.data\n",
    "    abs_images_grads = images_grads.abs()\n",
    "    saliency = abs_images_grads.norm(p=2, dim=1) # can be max, or mean, or norm with any p. euclidean norm for p =2\n",
    "\n",
    "    return saliency"
   ]
  },
  {
   "cell_type": "code",
   "execution_count": 15,
   "id": "bdd8b58d-f1b5-4cf8-8ec7-1f49c0fb6040",
   "metadata": {},
   "outputs": [],
   "source": [
    "def show_saliency_maps(X, y, model):\n",
    "\n",
    "    X_tensor = X\n",
    "    y_tensor = torch.LongTensor(y)\n",
    "    saliencies = np.zeros(shape = (*X.squeeze(0).size(), *y.size()))\n",
    "    \n",
    "    for i, label in enumerate(y):\n",
    "        saliencies[:,:, i] = compute_saliency_map(X_tensor, label, model).squeeze(0).numpy()\n",
    "\n",
    "    N = y.size()[0]\n",
    "    fig, axes = plt.subplots(2, N, sharex=True, sharey=True, figsize=(20,15))\n",
    "    for i, label in enumerate(y):\n",
    "        axes[0, i].imshow(np.transpose(X.detach().numpy(), (1, 2, 0)))\n",
    "        axes[0, i].axis('off')\n",
    "        axes[0, i].set_title(f'class {label.item()} pred')\n",
    "        vals = axes[1, i].imshow(saliencies[:,:, i], cmap=plt.cm.jet)\n",
    "        axes[1, i].axis('off')\n",
    "        fig.colorbar(vals, ax = axes[1, i], shrink=0.25)\n",
    "    fig.tight_layout(h_pad=-35, w_pad=0.25)\n",
    "\n",
    "    plt.show()"
   ]
  },
  {
   "cell_type": "code",
   "execution_count": 16,
   "id": "664d50ed-f5ce-4943-b03f-32e41f0db84c",
   "metadata": {},
   "outputs": [
    {
     "data": {
      "image/png": "[encoded data removed]",
      "text/plain": [
       "<Figure size 1440x1080 with 18 Axes>"
      ]
     },
     "metadata": {
      "needs_background": "light"
     },
     "output_type": "display_data"
    }
   ],
   "source": [
    "show_saliency_maps(images[0], torch.tensor([0, 1, 2, 5, 6, 7]), model)"
   ]
  },
  {
   "cell_type": "markdown",
   "id": "ed5c5d0d-fdec-47cd-952a-674996581b76",
   "metadata": {},
   "source": [
    "## TextCNN Example"
   ]
  },
  {
   "cell_type": "code",
   "execution_count": 2,
   "id": "53af6d61-f165-4af3-b0a8-35bf50899a65",
   "metadata": {},
   "outputs": [],
   "source": [
    "from models.CNN_classifier import TextCNN\n",
    "from data.preprocess import Dataset\n",
    "from torch.utils.data import DataLoader\n",
    "from torch.nn.utils.rnn import pad_sequence\n"
   ]
  },
  {
   "cell_type": "code",
   "execution_count": 3,
   "id": "169267dd-8f95-4dea-be28-faa4677573ef",
   "metadata": {},
   "outputs": [],
   "source": [
    "params = {\n",
    "    'emb_dim':  300,\n",
    "    'num_channels': 100,\n",
    "    'kernel_size': [2, 3, 4, 5],\n",
    "    'num_classes': 4,\n",
    "    'epochs': 15,\n",
    "    'lr': 0.0001,\n",
    "    'batch_size': 64,\n",
    "    'dropout': 0.05\n",
    "}\n",
    "\n",
    "ag_news = Dataset()\n",
    "label_dict = {0 : 'World',\n",
    "1 : 'Sports',\n",
    "2 : 'Business',\n",
    "3 : 'Sci/Tec'}\n",
    "txtCNN = TextCNN(word_embeddings=ag_news.pretrained_embeds,\n",
    "                vocab_size=ag_news.vocab_size, params=params)"
   ]
  },
  {
   "cell_type": "code",
   "execution_count": 4,
   "id": "46f604cd-1217-481c-b9d9-3ce68d8d3219",
   "metadata": {},
   "outputs": [
    {
     "data": {
      "text/plain": [
       "<All keys matched successfully>"
      ]
     },
     "execution_count": 4,
     "metadata": {},
     "output_type": "execute_result"
    }
   ],
   "source": [
    "txtCNN.load_state_dict(torch.load('./weights/txtCNN-07-03'))"
   ]
  },
  {
   "cell_type": "code",
   "execution_count": 5,
   "id": "765e9510-b8d7-43e3-878a-b98190342770",
   "metadata": {},
   "outputs": [],
   "source": [
    "def generate_batch(data_batch):\n",
    "    label_batch, text_batch = [], []\n",
    "    for (l_item, t_item) in data_batch:\n",
    "        label_batch.append(l_item)\n",
    "        text_batch.append(torch.cat(\n",
    "            [torch.tensor([ag_news.bos_index]), t_item, torch.tensor([ag_news.eos_index])], dim=0))\n",
    "    text_batch = pad_sequence(text_batch, padding_value=ag_news.pad_index)\n",
    "    label_batch = torch.tensor(label_batch, dtype=torch.int64)\n",
    "    return label_batch, text_batch\n",
    "\n",
    "train_loader = DataLoader(ag_news.train_data, batch_size=params['batch_size'],\n",
    "                          shuffle=True, collate_fn=generate_batch)\n",
    "valid_loader = DataLoader(ag_news.valid_data, batch_size=params['batch_size'],\n",
    "                          shuffle=True, collate_fn=generate_batch)\n",
    "test_loader = DataLoader(ag_news.test_data, batch_size=params['batch_size'],\n",
    "                         shuffle=True, collate_fn=generate_batch)"
   ]
  },
  {
   "cell_type": "code",
   "execution_count": 6,
   "id": "530fc7b1-6e74-4b39-88d1-f30984dcb311",
   "metadata": {},
   "outputs": [],
   "source": [
    "def evaluate_topk(model, dataloader, topk=1):\n",
    "    model.eval()\n",
    "    total_acc, total_count = 0, 0\n",
    "    with torch.no_grad():\n",
    "        for idx, (label, text) in enumerate(dataloader):\n",
    "            predicted_label = F.softmax(model(text), dim=1)\n",
    "            top_preds, top_idx = predicted_label.topk(k=topk, dim=1)\n",
    "            for i, k in enumerate(top_idx):\n",
    "                total_acc += int(label[i] in k)\n",
    "            total_count += label.size(0)\n",
    "    return total_acc/total_count"
   ]
  },
  {
   "cell_type": "code",
   "execution_count": 7,
   "id": "a44fdcc4-8cf3-4000-ad9e-c1b005c87aa5",
   "metadata": {},
   "outputs": [
    {
     "data": {
      "text/plain": [
       "0.904342105263158"
      ]
     },
     "execution_count": 7,
     "metadata": {},
     "output_type": "execute_result"
    }
   ],
   "source": [
    "# sanity check, make sure classifer is working\n",
    "evaluate_topk(txtCNN, test_loader, topk=1)"
   ]
  },
  {
   "cell_type": "code",
   "execution_count": 78,
   "id": "68d84943-c694-4491-9036-832ada749eba",
   "metadata": {},
   "outputs": [],
   "source": [
    "train_iter = iter(train_loader)\n",
    "labels, texts = train_iter.next()"
   ]
  },
  {
   "cell_type": "code",
   "execution_count": 79,
   "id": "669a1f62-6271-49d8-9ee0-0a355aba6fc4",
   "metadata": {},
   "outputs": [
    {
     "data": {
      "text/plain": [
       "tensor([0, 2, 3, 3, 2, 1, 2, 2, 2, 0, 3, 1, 2, 0, 2, 1, 2, 3, 2, 1, 3, 0, 2, 0,\n",
       "        2, 0, 2, 2, 3, 2, 0, 1, 0, 2, 1, 3, 3, 2, 1, 3, 2, 0, 2, 2, 2, 3, 1, 1,\n",
       "        2, 3, 2, 2, 3, 0, 3, 1, 3, 2, 1, 0, 1, 0, 0, 2])"
      ]
     },
     "execution_count": 79,
     "metadata": {},
     "output_type": "execute_result"
    }
   ],
   "source": [
    "labels"
   ]
  },
  {
   "cell_type": "code",
   "execution_count": 10,
   "id": "dfceb104-427f-43a7-97b0-fd5648f8fb8e",
   "metadata": {},
   "outputs": [
    {
     "data": {
      "text/plain": [
       "tensor([    2, 12018,  9450,  4454,  9830,     7,  5154,     5,  2534,    14,\n",
       "            0, 34125,  3342,     7,    97,   649,   295,    85, 12018,  3606,\n",
       "            9,  1516,    14,  1786,  1082,  4397,    20,   595,  3605,     4,\n",
       "            3,     1,     1,     1,     1,     1,     1,     1,     1,     1,\n",
       "            1,     1,     1,     1,     1,     1,     1,     1,     1,     1,\n",
       "            1,     1,     1,     1,     1,     1,     1,     1,     1,     1,\n",
       "            1,     1,     1,     1,     1,     1,     1,     1,     1,     1,\n",
       "            1,     1,     1,     1,     1,     1,     1,     1,     1,     1,\n",
       "            1,     1,     1,     1,     1,     1])"
      ]
     },
     "execution_count": 10,
     "metadata": {},
     "output_type": "execute_result"
    }
   ],
   "source": [
    "texts[:, 0]"
   ]
  },
  {
   "cell_type": "code",
   "execution_count": 80,
   "id": "798f6c99-d06f-49a8-9a04-db37b77a84f4",
   "metadata": {},
   "outputs": [
    {
     "name": "stdout",
     "output_type": "stream",
     "text": [
      " <bos> ss c enters the hedge zone ( the motley fool ) the motley fool - financial services firms like citigroup ( nyse c - news ) <unk> bank of america ( nyse bac - news ) <unk> and morgan stanley ( nyse mwd - news ) want to offer just about everything . to do this requires huge investments in information technologies ( it ) . that ' s good news for enterprise software companies that focus on the financial services industry <unk> such as advent software <unk> inc . ( nasdaq advs - news ) and sungard ( nyse sds - news ) . <eos>\n"
     ]
    }
   ],
   "source": [
    "t = ''\n",
    "for i in texts[:, 2].numpy():\n",
    "    t += ' '+ag_news.vocab.vocab.get_itos()[i]\n",
    "print(t)"
   ]
  },
  {
   "cell_type": "code",
   "execution_count": 19,
   "id": "70d53f88-b315-43bc-92fc-9191c7e21954",
   "metadata": {},
   "outputs": [],
   "source": [
    "def compute_text_saliency_map(X, y, model):\n",
    "\n",
    "    for param in model.parameters():\n",
    "        param.requires_grad = False\n",
    "    \n",
    "    model.eval()\n",
    "    \n",
    "    X_var = Variable(X, requires_grad=True)\n",
    "    y_var = Variable(y)\n",
    "\n",
    "    scores = F.softmax(model.foward2(X_var.unsqueeze(1).permute(1, 2, 0)), dim=1)\n",
    "    grad_scores = scores[0, y.item()]\n",
    "    grad_scores.backward()\n",
    "\n",
    "    \n",
    "    images_grads = X_var.grad.data\n",
    "    abs_text_grads = images_grads.abs()\n",
    "    saliency = abs_text_grads.norm(p=2, dim=1) # can be max, or mean, or norm with any p. euclidean norm for p =2\n",
    "\n",
    "    return saliency"
   ]
  },
  {
   "cell_type": "code",
   "execution_count": 200,
   "id": "b52f72f0-297a-4393-bbfa-4fb7e6570d90",
   "metadata": {},
   "outputs": [],
   "source": [
    "def show_text_saliency_maps(X, y, dataset, correct_label, label_dict, model):\n",
    "\n",
    "    X_emb = model.embedding(X)\n",
    "    predicted_class = F.softmax(model(X.unsqueeze(1)), dim=1).argmax()\n",
    "    print(f'The predicted class is: {label_dict[predicted_class.item()]}, the correct class is: {label_dict[correct_label.item()]}')\n",
    "    y_tensor = torch.LongTensor(y)\n",
    "    saliencies = np.zeros(shape = (X_emb.shape[0], *y.size()))\n",
    "    \n",
    "    for i, label in enumerate(y):\n",
    "        saliencies[:, i] = compute_text_saliency_map(X_emb, label, model).squeeze(0).numpy()\n",
    "        \n",
    "    detoked = np.array([dataset.vocab.vocab.get_itos()[tok] for tok in X.numpy()])\n",
    "    N = y.size()[0]\n",
    "    pad_idx = np.min(np.where(detoked == '<pad>')[0])\n",
    "    x_ticks = np.arange(pad_idx+1)\n",
    "    fig, axes = plt.subplots(N, 1, sharex=False, sharey=False, figsize=(8,60))\n",
    "    for i, label in enumerate(y):\n",
    "        axes[i].plot(saliencies[:pad_idx+1, i], x_ticks, '-o')\n",
    "        # axes[i].set_xticklabels(np.linspace(start=0, stop=saliencies[:, i].max(), num=10))\n",
    "        axes[i].set_yticks(ticks=x_ticks, labels=detoked[:pad_idx+1])\n",
    "        axes[i].set_title(f'class \\'{label_dict[label.item()]}\\' prediction')\n",
    "        axes[i].invert_yaxis()\n",
    "    plt.show()"
   ]
  },
  {
   "cell_type": "code",
   "execution_count": null,
   "id": "b6b11184-a9cf-467b-aee5-80ed57de4f9d",
   "metadata": {
    "tags": []
   },
   "outputs": [
    {
     "name": "stdout",
     "output_type": "stream",
     "text": [
      "The predicted class is: Sports, the correct class is: Sports\n"
     ]
    }
   ],
   "source": [
    "data_sample = 5\n",
    "show_text_saliency_maps(texts[:,  data_sample], torch.tensor([0, 1, 2, 3]), ag_news, labels[data_sample], label_dict, txtCNN)"
   ]
  },
  {
   "cell_type": "code",
   "execution_count": null,
   "id": "3c349143-e788-4dd0-92a5-efb0c4e81981",
   "metadata": {},
   "outputs": [],
   "source": []
  }
 ],
 "metadata": {
  "kernelspec": {
   "display_name": "Python 3 (ipykernel)",
   "language": "python",
   "name": "python3"
  },
  "language_info": {
   "codemirror_mode": {
    "name": "ipython",
    "version": 3
   },
   "file_extension": ".py",
   "mimetype": "text/x-python",
   "name": "python",
   "nbconvert_exporter": "python",
   "pygments_lexer": "ipython3",
   "version": "3.9.7"
  }
 },
 "nbformat": 4,
 "nbformat_minor": 5
}
